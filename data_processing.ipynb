{
  "cells": [
    {
      "cell_type": "markdown",
      "metadata": {
        "colab_type": "text",
        "id": "view-in-github"
      },
      "source": [
        "<a href=\"https://colab.research.google.com/github/mbentivegna/Burned-Area-Mapping/blob/main/data_processing.ipynb\" target=\"_parent\"><img src=\"https://colab.research.google.com/assets/colab-badge.svg\" alt=\"Open In Colab\"/></a>"
      ]
    },
    {
      "cell_type": "markdown",
      "metadata": {
        "id": "Dir1h-M_n3Ub"
      },
      "source": [
        "# Initial Authentication & Imports"
      ]
    },
    {
      "cell_type": "code",
      "execution_count": null,
      "metadata": {
        "colab": {
          "base_uri": "https://localhost:8080/",
          "height": 17
        },
        "id": "j_URT5AFnoF5",
        "outputId": "e1454abb-44ca-4b49-bc09-55741823e808"
      },
      "outputs": [],
      "source": [
        "# Imports\n",
        "import geemap\n",
        "import ee\n",
        "\n",
        "# Constants\n",
        "ASSET_PATH = f'projects/my-masters-thesis/assets/'"
      ]
    },
    {
      "cell_type": "markdown",
      "metadata": {
        "id": "8HIkpeYxFk6L"
      },
      "source": []
    },
    {
      "cell_type": "code",
      "execution_count": null,
      "metadata": {
        "colab": {
          "base_uri": "https://localhost:8080/",
          "height": 17
        },
        "collapsed": true,
        "id": "0vgEmmV5oCu8",
        "outputId": "06b41344-1b42-4cc7-f56e-99327686f737"
      },
      "outputs": [],
      "source": [
        "# Connect to earth engine\n",
        "ee.Authenticate()\n",
        "ee.Initialize(project='my-masters-thesis')\n",
        "\n"
      ]
    },
    {
      "cell_type": "code",
      "execution_count": null,
      "metadata": {
        "colab": {
          "base_uri": "https://localhost:8080/",
          "height": 621,
          "referenced_widgets": [
            "a64255802177453184ace15fe287fd65",
            "91379fbfda9545b0b5c10740d0fa4f50",
            "2c643c0f51da463b8fe333cd703c5d30",
            "c6a7b0162739429b800fbe9da558efc4",
            "854e1f6fc68d4defafe5f9c709f847cc",
            "b4d3be2961344522baf5a42bb87e3383",
            "d183d09fb67c499cbf877efc6787f5b7",
            "79714271159e49b6a9893d084ec3aa46",
            "77534a3c678e41cab1ab3affeda017e8",
            "dd6261a3956c457d89a433e898d270cb",
            "48b12626576944e3baf2d8970168ad61",
            "6ebe6c9c5c0c4766ba775425c1a3045f",
            "f97c200e02634c1d809f0111e2247303",
            "25fe4e35e4b9469abe0dccaeebde1175",
            "d8e4c75195424533b1e8a18dea2deb4d",
            "7d377935ef1a43cfa22e63558176bdc1",
            "54a0fa3e16e342a2a37add756672531d",
            "bf16081d7590485e888853aa3cb52bf9",
            "446d491e994a48d9a28c57d5b7dd4e50",
            "8803f5fd045f4297aaf48bbc179e49b7",
            "a859c23cb396446c83b498aff0ab3197",
            "641c01b0825d469484d4c5e2ed20bc4f",
            "b8f41de8ff72402c9fcc3285b36f91b2",
            "803000f416e64fa3b60af4cd91c2c1f1",
            "9acc400ba6124a23a7287a7edfe2eb07",
            "6e3d2218d32a44af85bb529f9916eb71"
          ]
        },
        "id": "474H1EJ-Rh_7",
        "outputId": "7d69ff6a-04bd-45eb-aabf-81f962ddf8d5"
      },
      "outputs": [],
      "source": [
        "# Display map\n",
        "m = geemap.Map()\n",
        "m"
      ]
    },
    {
      "cell_type": "markdown",
      "metadata": {
        "id": "nH-sIju8FOSf"
      },
      "source": [
        "# Plot A Generic Burned Area Mapping"
      ]
    },
    {
      "cell_type": "code",
      "execution_count": null,
      "metadata": {
        "colab": {
          "base_uri": "https://localhost:8080/",
          "height": 17
        },
        "id": "7WY1Nk0coOZC",
        "outputId": "57e5937e-f8cc-4c02-c35e-0d2e2a51246e"
      },
      "outputs": [],
      "source": [
        "data = ee.ImageCollection('ESA/CCI/FireCCI/5_1').filterDate('2020-01-01', '2020-12-31')\n",
        "burned_data = data.select(\"BurnDate\")\n",
        "\n",
        "most_recent_burn = burned_data.max()"
      ]
    },
    {
      "cell_type": "code",
      "execution_count": null,
      "metadata": {
        "colab": {
          "base_uri": "https://localhost:8080/",
          "height": 17
        },
        "id": "Jru4b_apqPWn",
        "outputId": "387e3ba5-954c-4ecc-b3d9-770065277ef9"
      },
      "outputs": [],
      "source": [
        "baVis = {\n",
        "  'min': 1,\n",
        "  'max': 366,\n",
        "  'palette': [\n",
        "    'ff0000', 'fd4100', 'fb8200', 'f9c400', 'f2ff00', 'b6ff05',\n",
        "    '7aff0a', '3eff0f', '02ff15', '00ff55', '00ff99', '00ffdd',\n",
        "    '00ddff', '0098ff', '0052ff', '0210ff', '3a0dfb', '7209f6',\n",
        "    'a905f1', 'e102ed', 'ff00cc', 'ff0089', 'ff0047', 'ff0004'\n",
        "  ]\n",
        "}"
      ]
    },
    {
      "cell_type": "code",
      "execution_count": null,
      "metadata": {
        "colab": {
          "base_uri": "https://localhost:8080/",
          "height": 17
        },
        "id": "AGZkv1mWqWUx",
        "outputId": "8a8513b9-f742-48fd-929a-e4dd6d9c23ec"
      },
      "outputs": [],
      "source": [
        "m.addLayer(most_recent_burn, baVis)"
      ]
    },
    {
      "cell_type": "markdown",
      "metadata": {
        "id": "fX3NgFjK8DhY"
      },
      "source": [
        "# Helper Functions"
      ]
    },
    {
      "cell_type": "code",
      "execution_count": null,
      "metadata": {
        "colab": {
          "base_uri": "https://localhost:8080/",
          "height": 17
        },
        "id": "X-SFvA21oUb2",
        "outputId": "7de9e2d8-2d27-47c7-adae-10c9d113b212"
      },
      "outputs": [],
      "source": [
        "# Retrieve a feature collection asset given its corresponding file_name\n",
        "def retrieve_asset(file_name: str) -> ee.FeatureCollection:\n",
        "  return ee.FeatureCollection(ASSET_PATH + file_name)"
      ]
    },
    {
      "cell_type": "code",
      "execution_count": null,
      "metadata": {
        "colab": {
          "base_uri": "https://localhost:8080/",
          "height": 17
        },
        "id": "kz303SqkjAw2",
        "outputId": "dd66eea3-b9cb-4eda-b160-6b5cad1634d0"
      },
      "outputs": [],
      "source": [
        "# Retrieve an image asset given its corresponding file_name\n",
        "def retrieve_image_asset(file_name: str) -> ee.FeatureCollection:\n",
        "  return ee.Image(ASSET_PATH + file_name)"
      ]
    },
    {
      "cell_type": "code",
      "execution_count": null,
      "metadata": {
        "colab": {
          "base_uri": "https://localhost:8080/",
          "height": 17
        },
        "id": "id2viroe8uZv",
        "outputId": "ad345397-e9d3-4f8b-d998-7a6caad55c34"
      },
      "outputs": [],
      "source": [
        "# Saves a provided feature collection as an asset\n",
        "def save_as_asset(file_name: str, feature_collection: ee.FeatureCollection) -> None:\n",
        "  task = ee.batch.Export.table.toAsset(\n",
        "      collection=feature_collection,\n",
        "      assetId=ASSET_PATH + file_name\n",
        "  )\n",
        "\n",
        "  task.start()"
      ]
    },
    {
      "cell_type": "code",
      "execution_count": null,
      "metadata": {
        "colab": {
          "base_uri": "https://localhost:8080/",
          "height": 17
        },
        "id": "LShKVggAqQVA",
        "outputId": "bafc6ee8-bc0f-46e9-f402-ed90faa383e5"
      },
      "outputs": [],
      "source": [
        "# Plotting function to show the validation samples that were / weren't burned in different colors\n",
        "def plot_samples_based_on_feature(filter_criteria: str, feature_collection: ee.FeatureCollection, title: str, color: str):\n",
        "  filter_condition = ee.Filter.equals('Reference', filter_criteria),\n",
        "  filtered_collection = feature_collection.filter(filter_condition)\n",
        "\n",
        "  m.addLayer(filtered_collection, {'color': color}, title)"
      ]
    },
    {
      "cell_type": "markdown",
      "metadata": {
        "id": "H-y89rhiFZVa"
      },
      "source": [
        "# Import Reference Dataset"
      ]
    },
    {
      "cell_type": "code",
      "execution_count": null,
      "metadata": {
        "colab": {
          "base_uri": "https://localhost:8080/",
          "height": 17
        },
        "id": "9j9YVoA7FoFq",
        "outputId": "53260a2b-4d71-4df7-9286-8046c623b0b3"
      },
      "outputs": [],
      "source": [
        "# Retrieve validation set from earth engine servers\n",
        "validation_dataset = retrieve_asset(\"reference-dataset\")\n",
        "\n",
        "# Display on the map\n",
        "plot_samples_based_on_feature(\"YES\", validation_dataset, \"Burned\", \"red\")\n",
        "plot_samples_based_on_feature(\"NO\", validation_dataset, \"Unburned\", \"green\")"
      ]
    },
    {
      "cell_type": "markdown",
      "metadata": {
        "id": "QEvCKIRE9IIb"
      },
      "source": [
        "# Burnt Pixel Windowing Algorithm"
      ]
    },
    {
      "cell_type": "code",
      "execution_count": null,
      "metadata": {
        "colab": {
          "base_uri": "https://localhost:8080/",
          "height": 17
        },
        "id": "FJle4GhZovtw",
        "outputId": "312519b2-b554-488d-ff0a-bd312d055c70"
      },
      "outputs": [],
      "source": [
        "# Load necessary feature collections\n",
        "boundary = ee.FeatureCollection(\"users/thetreemap/IDNBorneo_IslandBuffer3km\")\n",
        "index = ee.FeatureCollection(\"users/thetreemap/IDN_GridIndexRBI500K\")\n",
        "\n",
        "# Once the logic is ready we loop over all the indices to get the full area of indonesia\n",
        "indexStartID = 11\n",
        "indexEndID = 11\n",
        "\n",
        "# Filter the grid index to get the relevant grid cells\n",
        "indexAOI = index.filter(ee.Filter.gte('OBJECTID', indexStartID))\\\n",
        "                .filter(ee.Filter.lte('OBJECTID', indexEndID))\n",
        "\n",
        "# Compute the intersection between the boundary and the filtered grid cells\n",
        "AOI = boundary.geometry().intersection(indexAOI.geometry())\n",
        "\n",
        "# Visualize both areas and the intersections\n",
        "m.addLayer(boundary, {'color': 'red'}, 'Boundary with 3 km buffer')\n",
        "m.addLayer(indexAOI, {'color': 'blue'}, 'Filtered Grid Index')\n",
        "m.addLayer(AOI, {'color': 'green'}, 'Intersection Area of Interest (AoI)')"
      ]
    },
    {
      "cell_type": "code",
      "execution_count": null,
      "metadata": {
        "colab": {
          "base_uri": "https://localhost:8080/",
          "height": 17
        },
        "id": "kpbFl_ZXAgJz",
        "outputId": "68b78300-1152-4caa-8f6d-73f1a99c8660"
      },
      "outputs": [],
      "source": [
        "# Additional constants\n",
        "observationYear = 2019\n",
        "dt = 2\n",
        "cloudCover = 80\n",
        "stepMonth = 3\n",
        "shadowThresholdB11 = 700\n",
        "\n",
        "bands_nd = ['B7', 'B11']\n",
        "bands_nbr = ['B8', 'B12']\n",
        "bands_rnbr = ['B12', 'B8']\n",
        "\n",
        "def S2TOC_cloudMask(im):\n",
        "    # Cloud probability mask\n",
        "    cloudProbMask = im.select('MSK_CLDPRB').lt(60)\n",
        "\n",
        "    # Sentinel-2 Scene Classification Layer (SCL) mask\n",
        "    SCL = im.select('SCL')\n",
        "    SCL_mask = (SCL.eq(3).Or(SCL.eq(1)).Or(SCL.eq(8)).Or(SCL.eq(9)).Or(SCL.eq(10)).Or(SCL.eq(11))).Not()\n",
        "\n",
        "    # Shadow mask\n",
        "    shadow_mask = im.select(['B11']).lt(shadowThresholdB11).Or(im.select(['B4']).lt(200))\n",
        "\n",
        "    # Normalized Difference indices\n",
        "    nd = im.normalizedDifference(bands_nd).rename('ND')\n",
        "    rnbr = im.normalizedDifference(['B12', 'B8']).rename('RNBR')\n",
        "    nbr = im.normalizedDifference(['B8', 'B12']).rename('NBR')\n",
        "\n",
        "    # Combined mask\n",
        "    mask = cloudProbMask.And(shadow_mask.Not()).And(SCL_mask)\n",
        "\n",
        "    # Water mask\n",
        "    water = im.select('SCL').remap([1,2,3,4,5,6,7,8,9,10,11], [0,0,0,0,0,1,0,0,0,0,0])\n",
        "    water = water.eq(1).rename('Water')\n",
        "\n",
        "    # Morphological operation\n",
        "    kernel = ee.Kernel.circle(radius=20, units='meters')\n",
        "    mask = mask.focal_min(kernel=kernel, iterations=1)\n",
        "\n",
        "    return im.addBands(nd).addBands(rnbr).addBands(nbr).addBands(water).updateMask(mask).copyProperties(im)\n",
        "\n"
      ]
    },
    {
      "cell_type": "code",
      "execution_count": null,
      "metadata": {
        "colab": {
          "base_uri": "https://localhost:8080/",
          "height": 17
        },
        "id": "n84kcF68DoR5",
        "outputId": "71f1f7f0-c0cb-4a8a-ab21-bd15fae8517f"
      },
      "outputs": [],
      "source": [
        "start_date = ee.Date.fromYMD(observationYear, 3, 1)\n",
        "end_date = ee.Date.fromYMD(observationYear + 1, 2, 1)\n",
        "\n",
        "# Define the interval in milliseconds (1 day = 86400000 milliseconds)\n",
        "interval_millis = 86400000 * dt\n",
        "\n",
        "# Create the list of dates\n",
        "listDates = ee.List.sequence(start_date.millis(), end_date.millis(), interval_millis)"
      ]
    },
    {
      "cell_type": "code",
      "execution_count": null,
      "metadata": {
        "colab": {
          "base_uri": "https://localhost:8080/",
          "height": 17
        },
        "id": "QqkizFLBEzxQ",
        "outputId": "348413b9-3377-4da3-ca91-b95db033c067"
      },
      "outputs": [],
      "source": [
        "def process_date(dd):\n",
        "    targetDay = ee.Date(dd)\n",
        "\n",
        "    # Create Composite Before dd\n",
        "    startDate = targetDay.advance(-stepMonth, 'month')\n",
        "    endDate = targetDay.advance(-1, 'day')\n",
        "\n",
        "    S2 = ee.ImageCollection('COPERNICUS/S2_SR_HARMONIZED') \\\n",
        "            .filterDate(startDate, endDate) \\\n",
        "            .filterBounds(AOI) \\\n",
        "            .filterMetadata('CLOUD_COVERAGE_ASSESSMENT', 'less_than', cloudCover) \\\n",
        "            .map(S2TOC_cloudMask)\n",
        "\n",
        "    S2_before = S2.mean()\n",
        "    minNBR_1 = S2_before.normalizedDifference(bands_nbr)\n",
        "\n",
        "    # imageVisParamS2_before = {\"bands\": [\"B4\", \"B3\", \"B2\"], 'min': 0, 'max': 3000}\n",
        "    # m.addLayer(S2_before, imageVisParamS2_before, 'Testing_Before')\n",
        "\n",
        "    # Create Composite After dd\n",
        "    startDate = targetDay\n",
        "    endDate = targetDay.advance(stepMonth, 'month')\n",
        "    S2 = ee.ImageCollection('COPERNICUS/S2_SR') \\\n",
        "            .filterDate(startDate, endDate) \\\n",
        "            .filterBounds(AOI) \\\n",
        "            .filterMetadata('CLOUD_COVERAGE_ASSESSMENT', 'less_than', cloudCover) \\\n",
        "            .map(S2TOC_cloudMask)\n",
        "\n",
        "    S2_after = S2.filterDate(targetDay, targetDay.advance(1, 'month')).mean()\n",
        "    # bare_S2_after = S2.map(S2TOC_nbrMask).qualityMosaic('RNBR')\n",
        "    # veg_S2_after = S2.map(S2TOC_nbrMaskVeg).median()\n",
        "    # combined_S2_after = ee.ImageCollection([veg_S2_after.toInt32(), bare_S2_after.toInt32()]).mosaic()\n",
        "    # imageVisParamS2_after = {\"bands\": [\"B4\", \"B3\", \"B2\"], 'min': 0, 'max': 3000}\n",
        "    # m.addLayer(S2_after, imageVisParamS2_after, 'Testing_After')\n",
        "\n",
        "    minNBR_2 = S2_after.normalizedDifference(bands_nbr)\n",
        "\n",
        "    # Make difference before and after\n",
        "    diff_minNBR = minNBR_2.subtract(minNBR_1).multiply(-1).rename('diff_nbr')\n",
        "    doy = ee.Image(targetDay.getRelative('day', 'year')).rename('doy')\n",
        "    out = S2_after.addBands(S2_before).addBands(diff_minNBR).addBands(doy.int())#.addBands(combined_S2_after)\n",
        "\n",
        "    return out.set('system:time_start', targetDay.millis())\n",
        "\n",
        "# Apply the process_date function to each date in the list\n",
        "out_diff = ee.ImageCollection(listDates.map(process_date))\n"
      ]
    },
    {
      "cell_type": "code",
      "execution_count": null,
      "metadata": {
        "colab": {
          "base_uri": "https://localhost:8080/",
          "height": 17
        },
        "id": "KaPsZlI0GfrS",
        "outputId": "b74c8179-1a86-420d-fbff-d84d89e5329a"
      },
      "outputs": [],
      "source": [
        "out_diff = out_diff.filterDate(start_date, end_date)\n",
        "\n",
        "# Define visualization parameters\n",
        "pal = [\"00810a\", \"1bff00\", \"fff700\", \"ff0000\"]\n",
        "visMax = {\"min\": 0, \"max\": 0.5, \"palette\": pal}\n",
        "\n",
        "\n",
        "# Add the maximum difference MinNBR layer to the map\n",
        "# m.addLayer(out_diff.select('diff_nbr').max().clip(AOI), visMax, 'Maximum difference MinNBR', False)\n",
        "\n",
        "# Make quality mosaics with the difference image\n",
        "S2comp_diff = out_diff.qualityMosaic('diff_nbr').clip(AOI)\n",
        "waterMask = out_diff.select('Water').sum().lte(3)\n",
        "S2comp_diff = S2comp_diff.updateMask(waterMask)\n",
        "\n",
        "# Define visualization parameters for before and after disturbance\n",
        "imageVisParamS2_before = {\"opacity\": 1, \"bands\": [\"B11_1\", \"B8_1\", \"B4_1\"], \"min\": 60, \"max\": 5500, \"gamma\": 1}\n",
        "imageVisParamS2_after = {\"opacity\": 1, \"bands\": [\"B11\", \"B8\", \"B4\"], \"min\": 60, \"max\": 5500, \"gamma\": 1}\n",
        "\n",
        "# Add the before and after disturbance layers to the map\n",
        "# m.addLayer(S2comp_diff, imageVisParamS2_before, 'S2comp before disturbance', False)\n",
        "# m.addLayer(S2comp_diff, imageVisParamS2_after, 'S2comp after disturbance', True)"
      ]
    },
    {
      "cell_type": "code",
      "execution_count": null,
      "metadata": {
        "colab": {
          "base_uri": "https://localhost:8080/",
          "height": 17
        },
        "id": "KZ1xYKWiVsD1",
        "outputId": "32afc81f-b466-4f93-d253-e2ca438522e9"
      },
      "outputs": [],
      "source": [
        "image_pre = S2comp_diff.select(['B4_1','B5_1','B6_1','B7_1','B8_1','B8A_1','B11_1','B12_1','NBR_1']).rename(['B4','B5','B6','B7','B8','B8A','B11','B12','NBR'])\n",
        "image_post = S2comp_diff.select(['B4','B5','B6','B7','B8','B8A','B11','B12','NBR'])\n",
        "\n",
        "export_params_post = {\n",
        "    'image': image_post,\n",
        "    'description': 'IDNSentinel2Post',\n",
        "    'assetId': ASSET_PATH + 'IDN_S2PostBurnImage',\n",
        "    'scale': 20,\n",
        "    'region': AOI,\n",
        "    'maxPixels': 30000000000\n",
        "}\n",
        "\n",
        "export_params_pre = {\n",
        "    'image': image_pre,\n",
        "    'description': 'IDNSentinel2Pre',\n",
        "    'assetId': ASSET_PATH + 'IDN_S2PreBurnImage',\n",
        "    'scale': 20,\n",
        "    'region': AOI,\n",
        "    'maxPixels': 30000000000\n",
        "}"
      ]
    },
    {
      "cell_type": "code",
      "execution_count": null,
      "metadata": {
        "colab": {
          "base_uri": "https://localhost:8080/",
          "height": 222
        },
        "id": "cC1kW-HuWKss",
        "outputId": "4c1b7a66-2368-4665-a31c-c03ee65dc7f6"
      },
      "outputs": [],
      "source": [
        "# # Export images to Google Earth Engine's asset\n",
        "# task_post = ee.batch.Export.image.toAsset(**export_params_post)\n",
        "# task_pre = ee.batch.Export.image.toAsset(**export_params_pre)\n",
        "\n",
        "# # Start the export tasks\n",
        "# task_post.start()\n",
        "# task_pre.start()\n"
      ]
    },
    {
      "cell_type": "code",
      "execution_count": null,
      "metadata": {
        "colab": {
          "base_uri": "https://localhost:8080/",
          "height": 17
        },
        "id": "jzg6wbhar0Ne",
        "outputId": "7ff2f6eb-f8cb-4b72-f388-017ead64b79e"
      },
      "outputs": [],
      "source": [
        "image_post = retrieve_image_asset('IDN_S2PostBurnImage')\n",
        "image_pre = retrieve_image_asset('IDN_S2PreBurnImage')"
      ]
    },
    {
      "cell_type": "code",
      "execution_count": null,
      "metadata": {
        "colab": {
          "base_uri": "https://localhost:8080/",
          "height": 17
        },
        "id": "hD6etwp5sLNP",
        "outputId": "090e0235-01bf-4b82-f32b-6b0191a2fc57"
      },
      "outputs": [],
      "source": [
        "imageVisParamS2 = {\"opacity\": 1, \"bands\": [\"B11\", \"B8\", \"B4\"], \"min\": 60, \"max\": 5500, \"gamma\": 1}\n",
        "\n",
        "m.addLayer(image_post, imageVisParamS2, 'S2comp after disturbance')\n",
        "m.addLayer(image_pre, imageVisParamS2, 'S2comp before disturbance')"
      ]
    }
  ],
  "metadata": {
    "colab": {
      "authorship_tag": "ABX9TyNA0DKLtIxlLyCCtm/g34yI",
      "collapsed_sections": [
        "nH-sIju8FOSf"
      ],
      "include_colab_link": true,
      "provenance": []
    },
    "kernelspec": {
      "display_name": "Python 3",
      "name": "python3"
    },
    "language_info": {
      "name": "python"
    },
    "widgets": {
      "application/vnd.jupyter.widget-state+json": {
        "25fe4e35e4b9469abe0dccaeebde1175": {
          "model_module": "jupyter-leaflet",
          "model_module_version": "^0.18",
          "model_name": "LeafletMapStyleModel",
          "state": {
            "_model_module": "jupyter-leaflet",
            "_model_module_version": "^0.18",
            "_model_name": "LeafletMapStyleModel",
            "_view_count": null,
            "_view_module": "@jupyter-widgets/base",
            "_view_module_version": "1.2.0",
            "_view_name": "StyleView",
            "cursor": "grab"
          }
        },
        "2c643c0f51da463b8fe333cd703c5d30": {
          "model_module": "jupyter-leaflet",
          "model_module_version": "^0.18",
          "model_name": "LeafletZoomControlModel",
          "state": {
            "_model_module": "jupyter-leaflet",
            "_model_module_version": "^0.18",
            "_model_name": "LeafletZoomControlModel",
            "_view_count": null,
            "_view_module": "jupyter-leaflet",
            "_view_module_version": "^0.18",
            "_view_name": "LeafletZoomControlView",
            "options": [
              "position",
              "zoom_in_text",
              "zoom_in_title",
              "zoom_out_text",
              "zoom_out_title"
            ],
            "position": "topleft",
            "zoom_in_text": "+",
            "zoom_in_title": "Zoom in",
            "zoom_out_text": "-",
            "zoom_out_title": "Zoom out"
          }
        },
        "446d491e994a48d9a28c57d5b7dd4e50": {
          "model_module": "@jupyter-widgets/controls",
          "model_module_version": "1.5.0",
          "model_name": "ToggleButtonModel",
          "state": {
            "_dom_classes": [],
            "_model_module": "@jupyter-widgets/controls",
            "_model_module_version": "1.5.0",
            "_model_name": "ToggleButtonModel",
            "_view_count": null,
            "_view_module": "@jupyter-widgets/controls",
            "_view_module_version": "1.5.0",
            "_view_name": "ToggleButtonView",
            "button_style": "",
            "description": "",
            "description_tooltip": null,
            "disabled": false,
            "icon": "wrench",
            "layout": "IPY_MODEL_b8f41de8ff72402c9fcc3285b36f91b2",
            "style": "IPY_MODEL_803000f416e64fa3b60af4cd91c2c1f1",
            "tooltip": "Toolbar",
            "value": false
          }
        },
        "48b12626576944e3baf2d8970168ad61": {
          "model_module": "jupyter-leaflet",
          "model_module_version": "^0.18",
          "model_name": "LeafletMapStyleModel",
          "state": {
            "_model_module": "jupyter-leaflet",
            "_model_module_version": "^0.18",
            "_model_name": "LeafletMapStyleModel",
            "_view_count": null,
            "_view_module": "@jupyter-widgets/base",
            "_view_module_version": "1.2.0",
            "_view_name": "StyleView",
            "cursor": "move"
          }
        },
        "54a0fa3e16e342a2a37add756672531d": {
          "model_module": "@jupyter-widgets/controls",
          "model_module_version": "1.5.0",
          "model_name": "ToggleButtonModel",
          "state": {
            "_dom_classes": [],
            "_model_module": "@jupyter-widgets/controls",
            "_model_module_version": "1.5.0",
            "_model_name": "ToggleButtonModel",
            "_view_count": null,
            "_view_module": "@jupyter-widgets/controls",
            "_view_module_version": "1.5.0",
            "_view_name": "ToggleButtonView",
            "button_style": "",
            "description": "",
            "description_tooltip": null,
            "disabled": false,
            "icon": "globe",
            "layout": "IPY_MODEL_a859c23cb396446c83b498aff0ab3197",
            "style": "IPY_MODEL_641c01b0825d469484d4c5e2ed20bc4f",
            "tooltip": "Search location/data",
            "value": false
          }
        },
        "641c01b0825d469484d4c5e2ed20bc4f": {
          "model_module": "@jupyter-widgets/controls",
          "model_module_version": "1.5.0",
          "model_name": "DescriptionStyleModel",
          "state": {
            "_model_module": "@jupyter-widgets/controls",
            "_model_module_version": "1.5.0",
            "_model_name": "DescriptionStyleModel",
            "_view_count": null,
            "_view_module": "@jupyter-widgets/base",
            "_view_module_version": "1.2.0",
            "_view_name": "StyleView",
            "description_width": ""
          }
        },
        "6e3d2218d32a44af85bb529f9916eb71": {
          "model_module": "jupyter-leaflet",
          "model_module_version": "^0.18",
          "model_name": "LeafletTileLayerModel",
          "state": {
            "_model_module": "jupyter-leaflet",
            "_model_module_version": "^0.18",
            "_model_name": "LeafletTileLayerModel",
            "_view_count": null,
            "_view_module": "jupyter-leaflet",
            "_view_module_version": "^0.18",
            "_view_name": "LeafletTileLayerView",
            "attribution": "Google Earth Engine",
            "base": false,
            "bottom": true,
            "bounds": null,
            "detect_retina": false,
            "loading": false,
            "max_native_zoom": null,
            "max_zoom": 24,
            "min_native_zoom": null,
            "min_zoom": 0,
            "name": "S2comp before disturbance",
            "no_wrap": false,
            "opacity": 1,
            "options": [
              "attribution",
              "bounds",
              "detect_retina",
              "max_native_zoom",
              "max_zoom",
              "min_native_zoom",
              "min_zoom",
              "no_wrap",
              "tile_size",
              "tms",
              "zoom_offset"
            ],
            "pane": "",
            "popup": null,
            "popup_max_height": null,
            "popup_max_width": 300,
            "popup_min_width": 50,
            "show_loading": false,
            "subitems": [],
            "tile_size": 256,
            "tms": false,
            "url": "https://earthengine.googleapis.com/v1/projects/my-masters-thesis/maps/7f56f1573f2bdbd8dbdba934451e0306-575eafa94b37b42f54f72331020b18d7/tiles/{z}/{x}/{y}",
            "visible": true,
            "zoom_offset": 0
          }
        },
        "6ebe6c9c5c0c4766ba775425c1a3045f": {
          "model_module": "jupyter-leaflet",
          "model_module_version": "^0.18",
          "model_name": "LeafletTileLayerModel",
          "state": {
            "_model_module": "jupyter-leaflet",
            "_model_module_version": "^0.18",
            "_model_name": "LeafletTileLayerModel",
            "_view_count": null,
            "_view_module": "jupyter-leaflet",
            "_view_module_version": "^0.18",
            "_view_name": "LeafletTileLayerView",
            "attribution": "&copy; <a href=\"https://www.openstreetmap.org/copyright\">OpenStreetMap</a> contributors",
            "base": true,
            "bottom": true,
            "bounds": null,
            "detect_retina": false,
            "loading": false,
            "max_native_zoom": null,
            "max_zoom": 19,
            "min_native_zoom": null,
            "min_zoom": 1,
            "name": "OpenStreetMap.Mapnik",
            "no_wrap": false,
            "opacity": 1,
            "options": [
              "attribution",
              "bounds",
              "detect_retina",
              "max_native_zoom",
              "max_zoom",
              "min_native_zoom",
              "min_zoom",
              "no_wrap",
              "tile_size",
              "tms",
              "zoom_offset"
            ],
            "pane": "",
            "popup": null,
            "popup_max_height": null,
            "popup_max_width": 300,
            "popup_min_width": 50,
            "show_loading": false,
            "subitems": [],
            "tile_size": 256,
            "tms": false,
            "url": "https://tile.openstreetmap.org/{z}/{x}/{y}.png",
            "visible": true,
            "zoom_offset": 0
          }
        },
        "77534a3c678e41cab1ab3affeda017e8": {
          "model_module": "jupyter-leaflet",
          "model_module_version": "^0.18",
          "model_name": "LeafletAttributionControlModel",
          "state": {
            "_model_module": "jupyter-leaflet",
            "_model_module_version": "^0.18",
            "_model_name": "LeafletAttributionControlModel",
            "_view_count": null,
            "_view_module": "jupyter-leaflet",
            "_view_module_version": "^0.18",
            "_view_name": "LeafletAttributionControlView",
            "options": [
              "position",
              "prefix"
            ],
            "position": "bottomright",
            "prefix": "ipyleaflet"
          }
        },
        "79714271159e49b6a9893d084ec3aa46": {
          "model_module": "jupyter-leaflet",
          "model_module_version": "^0.18",
          "model_name": "LeafletWidgetControlModel",
          "state": {
            "_model_module": "jupyter-leaflet",
            "_model_module_version": "^0.18",
            "_model_name": "LeafletWidgetControlModel",
            "_view_count": null,
            "_view_module": "jupyter-leaflet",
            "_view_module_version": "^0.18",
            "_view_name": "LeafletWidgetControlView",
            "max_height": null,
            "max_width": null,
            "min_height": null,
            "min_width": null,
            "options": [
              "position",
              "transparent_bg"
            ],
            "position": "topright",
            "transparent_bg": false,
            "widget": "IPY_MODEL_7d377935ef1a43cfa22e63558176bdc1"
          }
        },
        "7d377935ef1a43cfa22e63558176bdc1": {
          "model_module": "@jupyter-widgets/controls",
          "model_module_version": "1.5.0",
          "model_name": "VBoxModel",
          "state": {
            "_dom_classes": [
              "geemap-colab"
            ],
            "_model_module": "@jupyter-widgets/controls",
            "_model_module_version": "1.5.0",
            "_model_name": "VBoxModel",
            "_view_count": null,
            "_view_module": "@jupyter-widgets/controls",
            "_view_module_version": "1.5.0",
            "_view_name": "VBoxView",
            "box_style": "",
            "children": [
              "IPY_MODEL_446d491e994a48d9a28c57d5b7dd4e50"
            ],
            "layout": "IPY_MODEL_8803f5fd045f4297aaf48bbc179e49b7"
          }
        },
        "803000f416e64fa3b60af4cd91c2c1f1": {
          "model_module": "@jupyter-widgets/controls",
          "model_module_version": "1.5.0",
          "model_name": "DescriptionStyleModel",
          "state": {
            "_model_module": "@jupyter-widgets/controls",
            "_model_module_version": "1.5.0",
            "_model_name": "DescriptionStyleModel",
            "_view_count": null,
            "_view_module": "@jupyter-widgets/base",
            "_view_module_version": "1.2.0",
            "_view_name": "StyleView",
            "description_width": ""
          }
        },
        "854e1f6fc68d4defafe5f9c709f847cc": {
          "model_module": "jupyter-leaflet",
          "model_module_version": "^0.18",
          "model_name": "LeafletDrawControlModel",
          "state": {
            "_model_module": "jupyter-leaflet",
            "_model_module_version": "^0.18",
            "_model_name": "LeafletDrawControlModel",
            "_view_count": null,
            "_view_module": "jupyter-leaflet",
            "_view_module_version": "^0.18",
            "_view_name": "LeafletDrawControlView",
            "circle": {},
            "circlemarker": {},
            "data": [],
            "edit": true,
            "marker": {
              "shapeOptions": {
                "color": "#3388ff"
              }
            },
            "options": [
              "position"
            ],
            "polygon": {
              "shapeOptions": {}
            },
            "polyline": {
              "shapeOptions": {}
            },
            "position": "topleft",
            "rectangle": {
              "shapeOptions": {
                "color": "#3388ff"
              }
            },
            "remove": true
          }
        },
        "8803f5fd045f4297aaf48bbc179e49b7": {
          "model_module": "@jupyter-widgets/base",
          "model_module_version": "1.2.0",
          "model_name": "LayoutModel",
          "state": {
            "_model_module": "@jupyter-widgets/base",
            "_model_module_version": "1.2.0",
            "_model_name": "LayoutModel",
            "_view_count": null,
            "_view_module": "@jupyter-widgets/base",
            "_view_module_version": "1.2.0",
            "_view_name": "LayoutView",
            "align_content": null,
            "align_items": null,
            "align_self": null,
            "border": null,
            "bottom": null,
            "display": null,
            "flex": null,
            "flex_flow": null,
            "grid_area": null,
            "grid_auto_columns": null,
            "grid_auto_flow": null,
            "grid_auto_rows": null,
            "grid_column": null,
            "grid_gap": null,
            "grid_row": null,
            "grid_template_areas": null,
            "grid_template_columns": null,
            "grid_template_rows": null,
            "height": null,
            "justify_content": null,
            "justify_items": null,
            "left": null,
            "margin": null,
            "max_height": null,
            "max_width": null,
            "min_height": null,
            "min_width": null,
            "object_fit": null,
            "object_position": null,
            "order": null,
            "overflow": null,
            "overflow_x": null,
            "overflow_y": null,
            "padding": null,
            "right": null,
            "top": null,
            "visibility": null,
            "width": null
          }
        },
        "91379fbfda9545b0b5c10740d0fa4f50": {
          "model_module": "jupyter-leaflet",
          "model_module_version": "^0.18",
          "model_name": "LeafletWidgetControlModel",
          "state": {
            "_model_module": "jupyter-leaflet",
            "_model_module_version": "^0.18",
            "_model_name": "LeafletWidgetControlModel",
            "_view_count": null,
            "_view_module": "jupyter-leaflet",
            "_view_module_version": "^0.18",
            "_view_name": "LeafletWidgetControlView",
            "max_height": null,
            "max_width": null,
            "min_height": null,
            "min_width": null,
            "options": [
              "position",
              "transparent_bg"
            ],
            "position": "topleft",
            "transparent_bg": false,
            "widget": "IPY_MODEL_d8e4c75195424533b1e8a18dea2deb4d"
          }
        },
        "9acc400ba6124a23a7287a7edfe2eb07": {
          "model_module": "jupyter-leaflet",
          "model_module_version": "^0.18",
          "model_name": "LeafletTileLayerModel",
          "state": {
            "_model_module": "jupyter-leaflet",
            "_model_module_version": "^0.18",
            "_model_name": "LeafletTileLayerModel",
            "_view_count": null,
            "_view_module": "jupyter-leaflet",
            "_view_module_version": "^0.18",
            "_view_name": "LeafletTileLayerView",
            "attribution": "Google Earth Engine",
            "base": false,
            "bottom": true,
            "bounds": null,
            "detect_retina": false,
            "loading": false,
            "max_native_zoom": null,
            "max_zoom": 24,
            "min_native_zoom": null,
            "min_zoom": 0,
            "name": "S2comp after disturbance",
            "no_wrap": false,
            "opacity": 1,
            "options": [
              "attribution",
              "bounds",
              "detect_retina",
              "max_native_zoom",
              "max_zoom",
              "min_native_zoom",
              "min_zoom",
              "no_wrap",
              "tile_size",
              "tms",
              "zoom_offset"
            ],
            "pane": "",
            "popup": null,
            "popup_max_height": null,
            "popup_max_width": 300,
            "popup_min_width": 50,
            "show_loading": false,
            "subitems": [],
            "tile_size": 256,
            "tms": false,
            "url": "https://earthengine.googleapis.com/v1/projects/my-masters-thesis/maps/57ada902e7cc4317b46ff7a4c23b53f3-8c08eed0a919343d9f92e483fc34dd44/tiles/{z}/{x}/{y}",
            "visible": true,
            "zoom_offset": 0
          }
        },
        "a64255802177453184ace15fe287fd65": {
          "model_module": "jupyter-leaflet",
          "model_module_version": "^0.18",
          "model_name": "LeafletMapModel",
          "state": {
            "_dom_classes": [],
            "_model_module": "jupyter-leaflet",
            "_model_module_version": "^0.18",
            "_model_name": "LeafletMapModel",
            "_view_count": null,
            "_view_module": "jupyter-leaflet",
            "_view_module_version": "^0.18",
            "_view_name": "LeafletMapView",
            "bottom": 32921,
            "bounce_at_zoom_limits": true,
            "box_zoom": true,
            "center": [
              0.8074683870228081,
              99.49226331752249
            ],
            "close_popup_on_click": true,
            "controls": [
              "IPY_MODEL_91379fbfda9545b0b5c10740d0fa4f50",
              "IPY_MODEL_2c643c0f51da463b8fe333cd703c5d30",
              "IPY_MODEL_c6a7b0162739429b800fbe9da558efc4",
              "IPY_MODEL_854e1f6fc68d4defafe5f9c709f847cc",
              "IPY_MODEL_b4d3be2961344522baf5a42bb87e3383",
              "IPY_MODEL_d183d09fb67c499cbf877efc6787f5b7",
              "IPY_MODEL_79714271159e49b6a9893d084ec3aa46",
              "IPY_MODEL_77534a3c678e41cab1ab3affeda017e8"
            ],
            "crs": {
              "custom": false,
              "name": "EPSG3857"
            },
            "default_style": "IPY_MODEL_dd6261a3956c457d89a433e898d270cb",
            "double_click_zoom": true,
            "dragging": true,
            "dragging_style": "IPY_MODEL_48b12626576944e3baf2d8970168ad61",
            "east": 106.95747327845999,
            "fullscreen": false,
            "inertia": true,
            "inertia_deceleration": 3000,
            "inertia_max_speed": 1500,
            "interpolation": "bilinear",
            "keyboard": true,
            "keyboard_pan_offset": 80,
            "keyboard_zoom_offset": 1,
            "layers": [
              "IPY_MODEL_6ebe6c9c5c0c4766ba775425c1a3045f",
              "IPY_MODEL_9acc400ba6124a23a7287a7edfe2eb07",
              "IPY_MODEL_6e3d2218d32a44af85bb529f9916eb71"
            ],
            "layout": "IPY_MODEL_f97c200e02634c1d809f0111e2247303",
            "left": 49521.013802158755,
            "max_zoom": 24,
            "min_zoom": null,
            "modisdate": "2024-05-18",
            "north": 2.454693068753791,
            "options": [
              "bounce_at_zoom_limits",
              "box_zoom",
              "center",
              "close_popup_on_click",
              "double_click_zoom",
              "dragging",
              "fullscreen",
              "inertia",
              "inertia_deceleration",
              "inertia_max_speed",
              "interpolation",
              "keyboard",
              "keyboard_pan_offset",
              "keyboard_zoom_offset",
              "max_zoom",
              "min_zoom",
              "prefer_canvas",
              "scroll_wheel_zoom",
              "tap",
              "tap_tolerance",
              "touch_zoom",
              "world_copy_jump",
              "zoom",
              "zoom_animation_threshold",
              "zoom_delta",
              "zoom_snap"
            ],
            "panes": {},
            "prefer_canvas": false,
            "right": 52239.013802158755,
            "scroll_wheel_zoom": true,
            "south": -0.840423963028274,
            "style": "IPY_MODEL_dd6261a3956c457d89a433e898d270cb",
            "tap": true,
            "tap_tolerance": 15,
            "top": 32321,
            "touch_zoom": true,
            "west": 92.02705335658499,
            "window_url": "https://i9lhjzrjwga-496ff2e9c6d22116-0-colab.googleusercontent.com/outputframe.html?vrz=colab_20240516-060112_RC00_634296042",
            "world_copy_jump": false,
            "zoom": 8,
            "zoom_animation_threshold": 4,
            "zoom_delta": 1,
            "zoom_snap": 1
          }
        },
        "a859c23cb396446c83b498aff0ab3197": {
          "model_module": "@jupyter-widgets/base",
          "model_module_version": "1.2.0",
          "model_name": "LayoutModel",
          "state": {
            "_model_module": "@jupyter-widgets/base",
            "_model_module_version": "1.2.0",
            "_model_name": "LayoutModel",
            "_view_count": null,
            "_view_module": "@jupyter-widgets/base",
            "_view_module_version": "1.2.0",
            "_view_name": "LayoutView",
            "align_content": null,
            "align_items": null,
            "align_self": null,
            "border": null,
            "bottom": null,
            "display": null,
            "flex": null,
            "flex_flow": null,
            "grid_area": null,
            "grid_auto_columns": null,
            "grid_auto_flow": null,
            "grid_auto_rows": null,
            "grid_column": null,
            "grid_gap": null,
            "grid_row": null,
            "grid_template_areas": null,
            "grid_template_columns": null,
            "grid_template_rows": null,
            "height": "28px",
            "justify_content": null,
            "justify_items": null,
            "left": null,
            "margin": null,
            "max_height": null,
            "max_width": null,
            "min_height": null,
            "min_width": null,
            "object_fit": null,
            "object_position": null,
            "order": null,
            "overflow": null,
            "overflow_x": null,
            "overflow_y": null,
            "padding": "0px 0px 0px 4px",
            "right": null,
            "top": null,
            "visibility": null,
            "width": "28px"
          }
        },
        "b4d3be2961344522baf5a42bb87e3383": {
          "model_module": "jupyter-leaflet",
          "model_module_version": "^0.18",
          "model_name": "LeafletScaleControlModel",
          "state": {
            "_model_module": "jupyter-leaflet",
            "_model_module_version": "^0.18",
            "_model_name": "LeafletScaleControlModel",
            "_view_count": null,
            "_view_module": "jupyter-leaflet",
            "_view_module_version": "^0.18",
            "_view_name": "LeafletScaleControlView",
            "imperial": true,
            "max_width": 100,
            "metric": true,
            "options": [
              "imperial",
              "max_width",
              "metric",
              "position",
              "update_when_idle"
            ],
            "position": "bottomleft",
            "update_when_idle": false
          }
        },
        "b8f41de8ff72402c9fcc3285b36f91b2": {
          "model_module": "@jupyter-widgets/base",
          "model_module_version": "1.2.0",
          "model_name": "LayoutModel",
          "state": {
            "_model_module": "@jupyter-widgets/base",
            "_model_module_version": "1.2.0",
            "_model_name": "LayoutModel",
            "_view_count": null,
            "_view_module": "@jupyter-widgets/base",
            "_view_module_version": "1.2.0",
            "_view_name": "LayoutView",
            "align_content": null,
            "align_items": null,
            "align_self": null,
            "border": null,
            "bottom": null,
            "display": null,
            "flex": null,
            "flex_flow": null,
            "grid_area": null,
            "grid_auto_columns": null,
            "grid_auto_flow": null,
            "grid_auto_rows": null,
            "grid_column": null,
            "grid_gap": null,
            "grid_row": null,
            "grid_template_areas": null,
            "grid_template_columns": null,
            "grid_template_rows": null,
            "height": "28px",
            "justify_content": null,
            "justify_items": null,
            "left": null,
            "margin": null,
            "max_height": null,
            "max_width": null,
            "min_height": null,
            "min_width": null,
            "object_fit": null,
            "object_position": null,
            "order": null,
            "overflow": null,
            "overflow_x": null,
            "overflow_y": null,
            "padding": "0px 0px 0px 4px",
            "right": null,
            "top": null,
            "visibility": null,
            "width": "28px"
          }
        },
        "bf16081d7590485e888853aa3cb52bf9": {
          "model_module": "@jupyter-widgets/base",
          "model_module_version": "1.2.0",
          "model_name": "LayoutModel",
          "state": {
            "_model_module": "@jupyter-widgets/base",
            "_model_module_version": "1.2.0",
            "_model_name": "LayoutModel",
            "_view_count": null,
            "_view_module": "@jupyter-widgets/base",
            "_view_module_version": "1.2.0",
            "_view_name": "LayoutView",
            "align_content": null,
            "align_items": null,
            "align_self": null,
            "border": null,
            "bottom": null,
            "display": null,
            "flex": null,
            "flex_flow": null,
            "grid_area": null,
            "grid_auto_columns": null,
            "grid_auto_flow": null,
            "grid_auto_rows": null,
            "grid_column": null,
            "grid_gap": null,
            "grid_row": null,
            "grid_template_areas": null,
            "grid_template_columns": null,
            "grid_template_rows": null,
            "height": null,
            "justify_content": null,
            "justify_items": null,
            "left": null,
            "margin": null,
            "max_height": null,
            "max_width": null,
            "min_height": null,
            "min_width": null,
            "object_fit": null,
            "object_position": null,
            "order": null,
            "overflow": null,
            "overflow_x": null,
            "overflow_y": null,
            "padding": null,
            "right": null,
            "top": null,
            "visibility": null,
            "width": null
          }
        },
        "c6a7b0162739429b800fbe9da558efc4": {
          "model_module": "jupyter-leaflet",
          "model_module_version": "^0.18",
          "model_name": "LeafletFullScreenControlModel",
          "state": {
            "_model_module": "jupyter-leaflet",
            "_model_module_version": "^0.18",
            "_model_name": "LeafletFullScreenControlModel",
            "_view_count": null,
            "_view_module": "jupyter-leaflet",
            "_view_module_version": "^0.18",
            "_view_name": "LeafletFullScreenControlView",
            "options": [
              "position"
            ],
            "position": "topleft"
          }
        },
        "d183d09fb67c499cbf877efc6787f5b7": {
          "model_module": "jupyter-leaflet",
          "model_module_version": "^0.18",
          "model_name": "LeafletMeasureControlModel",
          "state": {
            "_custom_units": {},
            "_model_module": "jupyter-leaflet",
            "_model_module_version": "^0.18",
            "_model_name": "LeafletMeasureControlModel",
            "_view_count": null,
            "_view_module": "jupyter-leaflet",
            "_view_module_version": "^0.18",
            "_view_name": "LeafletMeasureControlView",
            "active_color": "orange",
            "capture_z_index": 10000,
            "completed_color": "#C8F2BE",
            "options": [
              "active_color",
              "capture_z_index",
              "completed_color",
              "popup_options",
              "position",
              "primary_area_unit",
              "primary_length_unit",
              "secondary_area_unit",
              "secondary_length_unit"
            ],
            "popup_options": {
              "autoPanPadding": [
                10,
                10
              ],
              "className": "leaflet-measure-resultpopup"
            },
            "position": "bottomleft",
            "primary_area_unit": "acres",
            "primary_length_unit": "kilometers",
            "secondary_area_unit": null,
            "secondary_length_unit": null
          }
        },
        "d8e4c75195424533b1e8a18dea2deb4d": {
          "model_module": "@jupyter-widgets/controls",
          "model_module_version": "1.5.0",
          "model_name": "HBoxModel",
          "state": {
            "_dom_classes": [
              "geemap-colab"
            ],
            "_model_module": "@jupyter-widgets/controls",
            "_model_module_version": "1.5.0",
            "_model_name": "HBoxModel",
            "_view_count": null,
            "_view_module": "@jupyter-widgets/controls",
            "_view_module_version": "1.5.0",
            "_view_name": "HBoxView",
            "box_style": "",
            "children": [
              "IPY_MODEL_54a0fa3e16e342a2a37add756672531d"
            ],
            "layout": "IPY_MODEL_bf16081d7590485e888853aa3cb52bf9"
          }
        },
        "dd6261a3956c457d89a433e898d270cb": {
          "model_module": "jupyter-leaflet",
          "model_module_version": "^0.18",
          "model_name": "LeafletMapStyleModel",
          "state": {
            "_model_module": "jupyter-leaflet",
            "_model_module_version": "^0.18",
            "_model_name": "LeafletMapStyleModel",
            "_view_count": null,
            "_view_module": "@jupyter-widgets/base",
            "_view_module_version": "1.2.0",
            "_view_name": "StyleView",
            "cursor": "grab"
          }
        },
        "f97c200e02634c1d809f0111e2247303": {
          "model_module": "@jupyter-widgets/base",
          "model_module_version": "1.2.0",
          "model_name": "LayoutModel",
          "state": {
            "_model_module": "@jupyter-widgets/base",
            "_model_module_version": "1.2.0",
            "_model_name": "LayoutModel",
            "_view_count": null,
            "_view_module": "@jupyter-widgets/base",
            "_view_module_version": "1.2.0",
            "_view_name": "LayoutView",
            "align_content": null,
            "align_items": null,
            "align_self": null,
            "border": null,
            "bottom": null,
            "display": null,
            "flex": null,
            "flex_flow": null,
            "grid_area": null,
            "grid_auto_columns": null,
            "grid_auto_flow": null,
            "grid_auto_rows": null,
            "grid_column": null,
            "grid_gap": null,
            "grid_row": null,
            "grid_template_areas": null,
            "grid_template_columns": null,
            "grid_template_rows": null,
            "height": "600px",
            "justify_content": null,
            "justify_items": null,
            "left": null,
            "margin": null,
            "max_height": null,
            "max_width": null,
            "min_height": null,
            "min_width": null,
            "object_fit": null,
            "object_position": null,
            "order": null,
            "overflow": null,
            "overflow_x": null,
            "overflow_y": null,
            "padding": null,
            "right": null,
            "top": null,
            "visibility": null,
            "width": null
          }
        }
      }
    }
  },
  "nbformat": 4,
  "nbformat_minor": 0
}
